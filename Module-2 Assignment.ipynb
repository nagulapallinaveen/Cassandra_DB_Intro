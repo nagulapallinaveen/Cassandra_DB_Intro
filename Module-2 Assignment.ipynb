{
 "cells": [
  {
   "cell_type": "markdown",
   "metadata": {},
   "source": [
    "# Module 2 Assignment"
   ]
  },
  {
   "cell_type": "markdown",
   "metadata": {},
   "source": [
    "### Import Packages"
   ]
  },
  {
   "cell_type": "code",
   "execution_count": 28,
   "metadata": {},
   "outputs": [],
   "source": [
    "import pandas as pd\n",
    "from cassandra.cluster import Cluster"
   ]
  },
  {
   "cell_type": "markdown",
   "metadata": {},
   "source": [
    "### Create a session connection to Cassandra cluster"
   ]
  },
  {
   "cell_type": "code",
   "execution_count": 29,
   "metadata": {},
   "outputs": [],
   "source": [
    "clstr = Cluster()\n",
    "session = clstr.connect()"
   ]
  },
  {
   "cell_type": "markdown",
   "metadata": {},
   "source": [
    "### Use session to 'talk' to cassandra"
   ]
  },
  {
   "cell_type": "code",
   "execution_count": 30,
   "metadata": {},
   "outputs": [
    {
     "data": {
      "text/plain": [
       "<cassandra.cluster.ResultSet at 0x7f9a42253880>"
      ]
     },
     "execution_count": 30,
     "metadata": {},
     "output_type": "execute_result"
    }
   ],
   "source": [
    "session.execute(\"DROP KEYSPACE IF EXISTS m14\")"
   ]
  },
  {
   "cell_type": "code",
   "execution_count": 31,
   "metadata": {},
   "outputs": [
    {
     "data": {
      "text/plain": [
       "<cassandra.cluster.ResultSet at 0x7f9a42253cd0>"
      ]
     },
     "execution_count": 31,
     "metadata": {},
     "output_type": "execute_result"
    }
   ],
   "source": [
    "session.execute(\"CREATE KEYSPACE IF NOT EXISTS m14 WITH REPLICATION = {'class':'SimpleStrategy', 'replication_factor':2}\")"
   ]
  },
  {
   "cell_type": "code",
   "execution_count": 32,
   "metadata": {},
   "outputs": [
    {
     "name": "stdout",
     "output_type": "stream",
     "text": [
      "m14\n",
      "system\n",
      "system_auth\n",
      "system_distributed\n",
      "system_schema\n",
      "system_traces\n",
      "system_views\n",
      "system_virtual_schema\n",
      "w04python\n"
     ]
    }
   ],
   "source": [
    "rows = session.execute(\"desc keyspaces\")\n",
    "for row in rows:\n",
    "    print(f\"{row[0]}\")"
   ]
  },
  {
   "cell_type": "markdown",
   "metadata": {},
   "source": [
    "#### Create a inventory table"
   ]
  },
  {
   "cell_type": "code",
   "execution_count": 33,
   "metadata": {},
   "outputs": [
    {
     "data": {
      "text/plain": [
       "<cassandra.cluster.ResultSet at 0x7f9a044a4040>"
      ]
     },
     "execution_count": 33,
     "metadata": {},
     "output_type": "execute_result"
    }
   ],
   "source": [
    "session.execute(\"\"\"\n",
    "CREATE TABLE IF NOT EXISTS m14.inventory ( \n",
    "    SKU UUID,\n",
    "    name TEXT,\n",
    "    description TEXT,\n",
    "    warehouse_num INT,\n",
    "    PRIMARY KEY(SKU)\n",
    ");\n",
    "\"\"\")"
   ]
  },
  {
   "cell_type": "markdown",
   "metadata": {},
   "source": [
    "#### Create and load a DataFrame with 10 different rows of data"
   ]
  },
  {
   "cell_type": "code",
   "execution_count": 34,
   "metadata": {},
   "outputs": [],
   "source": [
    "import uuid\n",
    "\n",
    "data = {\n",
    "    'SKU': [uuid.uuid4() for _ in range(10)],\n",
    "    'name': ['Product A', 'Product B', 'Product C', 'Product D', 'Product E',\n",
    "             'Product F', 'Product G', 'Product H', 'Product I', 'Product J'],\n",
    "    'description': ['Description A', 'Description B', 'Description C', 'Description D', 'Description E',\n",
    "                    'Description F', 'Description G', 'Description H', 'Description I', 'Description J'],\n",
    "    'warehouse_num': [1, 2, 1, 3, 2, 3, 1, 2, 3, 4]\n",
    "}\n",
    "\n",
    "df = pd.DataFrame(data)"
   ]
  },
  {
   "cell_type": "code",
   "execution_count": 35,
   "metadata": {},
   "outputs": [
    {
     "data": {
      "text/html": [
       "<div>\n",
       "<style scoped>\n",
       "    .dataframe tbody tr th:only-of-type {\n",
       "        vertical-align: middle;\n",
       "    }\n",
       "\n",
       "    .dataframe tbody tr th {\n",
       "        vertical-align: top;\n",
       "    }\n",
       "\n",
       "    .dataframe thead th {\n",
       "        text-align: right;\n",
       "    }\n",
       "</style>\n",
       "<table border=\"1\" class=\"dataframe\">\n",
       "  <thead>\n",
       "    <tr style=\"text-align: right;\">\n",
       "      <th></th>\n",
       "      <th>SKU</th>\n",
       "      <th>name</th>\n",
       "      <th>description</th>\n",
       "      <th>warehouse_num</th>\n",
       "    </tr>\n",
       "  </thead>\n",
       "  <tbody>\n",
       "    <tr>\n",
       "      <th>0</th>\n",
       "      <td>f6b61798-b2d9-47cb-a948-1fe701b6e3db</td>\n",
       "      <td>Product A</td>\n",
       "      <td>Description A</td>\n",
       "      <td>1</td>\n",
       "    </tr>\n",
       "    <tr>\n",
       "      <th>1</th>\n",
       "      <td>df79f01c-96ba-47cc-b38f-ed045815ae54</td>\n",
       "      <td>Product B</td>\n",
       "      <td>Description B</td>\n",
       "      <td>2</td>\n",
       "    </tr>\n",
       "    <tr>\n",
       "      <th>2</th>\n",
       "      <td>8f10ba90-57db-4d56-b3e2-7cb79299cb41</td>\n",
       "      <td>Product C</td>\n",
       "      <td>Description C</td>\n",
       "      <td>1</td>\n",
       "    </tr>\n",
       "    <tr>\n",
       "      <th>3</th>\n",
       "      <td>4fa4b391-a9a3-4d60-93a4-369a48c31791</td>\n",
       "      <td>Product D</td>\n",
       "      <td>Description D</td>\n",
       "      <td>3</td>\n",
       "    </tr>\n",
       "    <tr>\n",
       "      <th>4</th>\n",
       "      <td>37b70468-89fe-4652-a9fa-543d99bd816f</td>\n",
       "      <td>Product E</td>\n",
       "      <td>Description E</td>\n",
       "      <td>2</td>\n",
       "    </tr>\n",
       "    <tr>\n",
       "      <th>5</th>\n",
       "      <td>b6b66514-befe-4c49-a66b-7de4600a25bc</td>\n",
       "      <td>Product F</td>\n",
       "      <td>Description F</td>\n",
       "      <td>3</td>\n",
       "    </tr>\n",
       "    <tr>\n",
       "      <th>6</th>\n",
       "      <td>d75e19bb-2a7d-4d23-86a2-c7777c609849</td>\n",
       "      <td>Product G</td>\n",
       "      <td>Description G</td>\n",
       "      <td>1</td>\n",
       "    </tr>\n",
       "    <tr>\n",
       "      <th>7</th>\n",
       "      <td>7ed4b7ae-4f85-43ac-bd47-69d3f915d6e3</td>\n",
       "      <td>Product H</td>\n",
       "      <td>Description H</td>\n",
       "      <td>2</td>\n",
       "    </tr>\n",
       "    <tr>\n",
       "      <th>8</th>\n",
       "      <td>278a6aa0-8503-432c-8d62-6a4a2d3757a6</td>\n",
       "      <td>Product I</td>\n",
       "      <td>Description I</td>\n",
       "      <td>3</td>\n",
       "    </tr>\n",
       "    <tr>\n",
       "      <th>9</th>\n",
       "      <td>efe6566d-c0c0-4c3c-a02b-86b498147bed</td>\n",
       "      <td>Product J</td>\n",
       "      <td>Description J</td>\n",
       "      <td>4</td>\n",
       "    </tr>\n",
       "  </tbody>\n",
       "</table>\n",
       "</div>"
      ],
      "text/plain": [
       "                                    SKU       name    description  \\\n",
       "0  f6b61798-b2d9-47cb-a948-1fe701b6e3db  Product A  Description A   \n",
       "1  df79f01c-96ba-47cc-b38f-ed045815ae54  Product B  Description B   \n",
       "2  8f10ba90-57db-4d56-b3e2-7cb79299cb41  Product C  Description C   \n",
       "3  4fa4b391-a9a3-4d60-93a4-369a48c31791  Product D  Description D   \n",
       "4  37b70468-89fe-4652-a9fa-543d99bd816f  Product E  Description E   \n",
       "5  b6b66514-befe-4c49-a66b-7de4600a25bc  Product F  Description F   \n",
       "6  d75e19bb-2a7d-4d23-86a2-c7777c609849  Product G  Description G   \n",
       "7  7ed4b7ae-4f85-43ac-bd47-69d3f915d6e3  Product H  Description H   \n",
       "8  278a6aa0-8503-432c-8d62-6a4a2d3757a6  Product I  Description I   \n",
       "9  efe6566d-c0c0-4c3c-a02b-86b498147bed  Product J  Description J   \n",
       "\n",
       "   warehouse_num  \n",
       "0              1  \n",
       "1              2  \n",
       "2              1  \n",
       "3              3  \n",
       "4              2  \n",
       "5              3  \n",
       "6              1  \n",
       "7              2  \n",
       "8              3  \n",
       "9              4  "
      ]
     },
     "execution_count": 35,
     "metadata": {},
     "output_type": "execute_result"
    }
   ],
   "source": [
    "df"
   ]
  },
  {
   "cell_type": "code",
   "execution_count": 36,
   "metadata": {},
   "outputs": [],
   "source": [
    "for index, row in df.iterrows():\n",
    "    session.execute(f\"\"\"\n",
    "        INSERT INTO m14.inventory (SKU, name, description, warehouse_num)     \n",
    "        VALUES (%s, %s, %s, %s)       \n",
    "        \"\"\",\n",
    "        (row[0], row[1], row[2], row[3])\n",
    "       )"
   ]
  },
  {
   "cell_type": "code",
   "execution_count": 37,
   "metadata": {},
   "outputs": [
    {
     "name": "stdout",
     "output_type": "stream",
     "text": [
      "SKU=b6b66514-befe-4c49-a66b-7de4600a25bc, name=Product F, description=Description F, warehouse_num=3\n",
      "SKU=4fa4b391-a9a3-4d60-93a4-369a48c31791, name=Product D, description=Description D, warehouse_num=3\n",
      "SKU=37b70468-89fe-4652-a9fa-543d99bd816f, name=Product E, description=Description E, warehouse_num=2\n",
      "SKU=278a6aa0-8503-432c-8d62-6a4a2d3757a6, name=Product I, description=Description I, warehouse_num=3\n",
      "SKU=d75e19bb-2a7d-4d23-86a2-c7777c609849, name=Product G, description=Description G, warehouse_num=1\n",
      "SKU=8f10ba90-57db-4d56-b3e2-7cb79299cb41, name=Product C, description=Description C, warehouse_num=1\n",
      "SKU=f6b61798-b2d9-47cb-a948-1fe701b6e3db, name=Product A, description=Description A, warehouse_num=1\n",
      "SKU=7ed4b7ae-4f85-43ac-bd47-69d3f915d6e3, name=Product H, description=Description H, warehouse_num=2\n",
      "SKU=efe6566d-c0c0-4c3c-a02b-86b498147bed, name=Product J, description=Description J, warehouse_num=4\n",
      "SKU=df79f01c-96ba-47cc-b38f-ed045815ae54, name=Product B, description=Description B, warehouse_num=2\n"
     ]
    }
   ],
   "source": [
    "rows = session.execute(\"select (SKU, name, description, warehouse_num) from m14.inventory\")\n",
    "for row in rows:\n",
    "    print(f\"SKU={row[0][0]}, name={row[0][1]}, description={row[0][2]}, warehouse_num={row[0][3]}\")"
   ]
  },
  {
   "cell_type": "markdown",
   "metadata": {},
   "source": [
    "#### Creating an index on warehouse_num"
   ]
  },
  {
   "cell_type": "code",
   "execution_count": 38,
   "metadata": {},
   "outputs": [
    {
     "data": {
      "text/plain": [
       "<cassandra.cluster.ResultSet at 0x7f9a04090eb0>"
      ]
     },
     "execution_count": 38,
     "metadata": {},
     "output_type": "execute_result"
    }
   ],
   "source": [
    "session.execute(\"CREATE INDEX IF NOT EXISTS warehouse_num_index ON m14.inventory (warehouse_num);\")"
   ]
  },
  {
   "cell_type": "markdown",
   "metadata": {},
   "source": [
    "#### Searching for all products located at a given location i.e warehouse_num"
   ]
  },
  {
   "cell_type": "code",
   "execution_count": 39,
   "metadata": {},
   "outputs": [
    {
     "name": "stdout",
     "output_type": "stream",
     "text": [
      "Product G\n",
      "Product C\n",
      "Product A\n"
     ]
    }
   ],
   "source": [
    "rows = session.execute(\"select name from m14.inventory where warehouse_num = 1\")\n",
    "for row in rows:\n",
    "    print(f\"{row[0]}\")"
   ]
  }
 ],
 "metadata": {
  "kernelspec": {
   "display_name": "bd",
   "language": "python",
   "name": "python3"
  },
  "language_info": {
   "codemirror_mode": {
    "name": "ipython",
    "version": 3
   },
   "file_extension": ".py",
   "mimetype": "text/x-python",
   "name": "python",
   "nbconvert_exporter": "python",
   "pygments_lexer": "ipython3",
   "version": "3.10.12"
  },
  "orig_nbformat": 4
 },
 "nbformat": 4,
 "nbformat_minor": 2
}
